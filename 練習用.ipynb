{
  "nbformat": 4,
  "nbformat_minor": 0,
  "metadata": {
    "colab": {
      "provenance": [],
      "authorship_tag": "ABX9TyM8etfHDZXrf5YL1Acvo7J9",
      "include_colab_link": true
    },
    "kernelspec": {
      "name": "python3",
      "display_name": "Python 3"
    },
    "language_info": {
      "name": "python"
    }
  },
  "cells": [
    {
      "cell_type": "markdown",
      "metadata": {
        "id": "view-in-github",
        "colab_type": "text"
      },
      "source": [
        "<a href=\"https://colab.research.google.com/github/kodohoi/aidemy_git/blob/master/%E7%B7%B4%E7%BF%92%E7%94%A8.ipynb\" target=\"_parent\"><img src=\"https://colab.research.google.com/assets/colab-badge.svg\" alt=\"Open In Colab\"/></a>"
      ]
    },
    {
      "cell_type": "code",
      "execution_count": 1,
      "metadata": {
        "id": "RF7dGJFgJBwq"
      },
      "outputs": [],
      "source": [
        "import torch\n",
        "import torch.nn as nn\n",
        "import torchvision.models as models\n",
        "import torch.nn.functional as F"
      ]
    },
    {
      "cell_type": "code",
      "source": [
        "original_model = models.resnet18(pretrained=True)\n",
        "\n",
        "original_model.fc = nn.Identity()"
      ],
      "metadata": {
        "id": "fPspxG7rJlLB"
      },
      "execution_count": 3,
      "outputs": []
    },
    {
      "cell_type": "code",
      "source": [
        "output_try = original_model(torch.rand(1,3,224,224))\n",
        "output_try.shape"
      ],
      "metadata": {
        "colab": {
          "base_uri": "https://localhost:8080/"
        },
        "id": "VEMzXWDhb6PQ",
        "outputId": "d8fef979-6d1b-46a9-dc7e-33801d0f4a0d"
      },
      "execution_count": 6,
      "outputs": [
        {
          "output_type": "execute_result",
          "data": {
            "text/plain": [
              "torch.Size([1, 512])"
            ]
          },
          "metadata": {},
          "execution_count": 6
        }
      ]
    },
    {
      "cell_type": "code",
      "source": [
        "output_excel = nn.Linear(10,50)(torch.rand(1,10))\n",
        "output_excel.shape"
      ],
      "metadata": {
        "colab": {
          "base_uri": "https://localhost:8080/"
        },
        "id": "ZTZZImvccMev",
        "outputId": "1e9e0ee9-e5ba-4243-afd6-4c2e69abc967"
      },
      "execution_count": 9,
      "outputs": [
        {
          "output_type": "execute_result",
          "data": {
            "text/plain": [
              "torch.Size([1, 50])"
            ]
          },
          "metadata": {},
          "execution_count": 9
        }
      ]
    },
    {
      "cell_type": "code",
      "source": [
        "concat_output = torch.cat((output_excel, output_try), dim =1)\n",
        "concat_output.shape"
      ],
      "metadata": {
        "colab": {
          "base_uri": "https://localhost:8080/"
        },
        "id": "kCOci6ydc_VO",
        "outputId": "ffa48e93-7cba-4344-ce44-f8445ec0e54d"
      },
      "execution_count": 10,
      "outputs": [
        {
          "output_type": "execute_result",
          "data": {
            "text/plain": [
              "torch.Size([1, 562])"
            ]
          },
          "metadata": {},
          "execution_count": 10
        }
      ]
    },
    {
      "cell_type": "code",
      "source": [
        "class ExcelInputModel(nn.Module):\n",
        "    def __init__(self, original_model):\n",
        "        super().__init__()\n",
        "        self.original_model = original_model\n",
        "        self.avgpool = nn.AdaptiveAvgPool2d(output_size=(1,1))\n",
        "        self.excel_layer = nn.Linear(10, 20)\n",
        "        self.linear = nn.Linear(in_features=532, out_features=10)\n",
        "\n",
        "    def forward(self, x, excel_data):\n",
        "        excel_data = excel_data.view(1,-1)\n",
        "        excel_output = F.relu(self.excel_layer(excel_data))\n",
        "        image_output = self.original_model(image)\n",
        "        image_outout = self.avgpool(image_output.unsqueeze(0))\n",
        "        combined_output = torch.cat((excel_output, image_output), dim=1)\n",
        "        final_output = self.linear(combined_output)\n",
        "        return final_output"
      ],
      "metadata": {
        "id": "2DCvp_BBKs64"
      },
      "execution_count": 15,
      "outputs": []
    },
    {
      "cell_type": "code",
      "source": [
        "image = torch.rand(1,3,224, 224)\n",
        "excel_data = torch.rand(1,10)"
      ],
      "metadata": {
        "id": "yh9cwaWBN4kh"
      },
      "execution_count": 16,
      "outputs": []
    },
    {
      "cell_type": "code",
      "source": [
        "model_with_excel_input = ExcelInputModel(original_model)"
      ],
      "metadata": {
        "id": "en5OIAofRFEs"
      },
      "execution_count": 17,
      "outputs": []
    },
    {
      "cell_type": "code",
      "source": [
        "output = model_with_excel_input(image, excel_data)"
      ],
      "metadata": {
        "id": "4PWXowG1ROf-"
      },
      "execution_count": 18,
      "outputs": []
    },
    {
      "cell_type": "code",
      "source": [
        "output.shape"
      ],
      "metadata": {
        "colab": {
          "base_uri": "https://localhost:8080/"
        },
        "id": "fwIH_cjFRUHc",
        "outputId": "4481c447-8859-40e9-8322-d56ea0f1f67f"
      },
      "execution_count": 19,
      "outputs": [
        {
          "output_type": "execute_result",
          "data": {
            "text/plain": [
              "torch.Size([1, 10])"
            ]
          },
          "metadata": {},
          "execution_count": 19
        }
      ]
    },
    {
      "cell_type": "code",
      "source": [],
      "metadata": {
        "id": "zMSMQVxieNFc"
      },
      "execution_count": null,
      "outputs": []
    }
  ]
}